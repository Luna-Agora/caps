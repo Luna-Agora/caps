{
 "cells": [
  {
   "cell_type": "code",
   "execution_count": 27,
   "id": "f673224f-ff8f-40f7-b239-3f0bdf31e4fd",
   "metadata": {},
   "outputs": [],
   "source": [
    "import requests"
   ]
  },
  {
   "cell_type": "code",
   "execution_count": 28,
   "id": "51cedc9b-065e-4593-8c64-188cc06e6ec0",
   "metadata": {},
   "outputs": [],
   "source": [
    "URL = 'https://www.point2homes.com/US/Neighborhood/TN/Davidson-County-Demographics.html'\n",
    "\n",
    "response = requests.get(URL)"
   ]
  },
  {
   "cell_type": "code",
   "execution_count": 29,
   "id": "c392db27-e030-4b89-9d40-06b19981130b",
   "metadata": {},
   "outputs": [],
   "source": [
    "from bs4 import BeautifulSoup as BS"
   ]
  },
  {
   "cell_type": "code",
   "execution_count": 30,
   "id": "1b5c43c3-cb48-4198-a7b6-19dc010a48a4",
   "metadata": {},
   "outputs": [],
   "source": [
    "soup = BS(response.text)"
   ]
  },
  {
   "cell_type": "code",
   "execution_count": 31,
   "id": "0a5a8e3c-34d5-46f2-aa67-499a4d3b57c9",
   "metadata": {},
   "outputs": [
    {
     "name": "stdout",
     "output_type": "stream",
     "text": [
      "<!DOCTYPE html>\n",
      "<html lang=\"en-US\">\n",
      " <head>\n",
      "  <title>\n",
      "   Just a moment...\n",
      "  </title>\n",
      "  <meta content=\"text/html; charset=utf-8\" http-equiv=\"Content-Type\"/>\n",
      "  <meta content=\"IE=Edge\" http-equiv=\"X-UA-Compatible\"/>\n",
      "  <meta content=\"noindex,nofollow\" name=\"robots\"/>\n",
      "  <meta content=\"width=device-width,initial-scale=1\" name=\"viewport\"/>\n",
      "  <style>\n",
      "   *{box-sizing:border-box;margin:0;padding:0}html{line-height:1.15;-webkit-text-size-adjust:100%;color:#313131}button,html{font-family:system-ui,-apple-system,BlinkMacSystemFont,Segoe UI,Roboto,Helvetica Neue,Arial,Noto Sans,sans-serif,Apple Color Emoji,Segoe UI Emoji,Segoe UI Symbol,Noto Color Emoji}@media (prefers-color-scheme:dark){body{background-color:#222;color:#d9d9d9}body a{color:#fff}body a:hover{color:#ee730a;text-decoration:underline}body .lds-ring div{border-color:#999 transparent transparent}body .font-red{color:#b20f03}body .big-button,body .pow-button{background-color:#4693ff;color:#1d1d1d}body #challenge-success-text{background-image:url(data:image/svg+xml;base64,PHN2ZyB4bWxucz0iaHR0cDovL3d3dy53My5vcmcvMjAwMC9zdmciIHdpZHRoPSIzMiIgaGVpZ2h0PSIzMiIgZmlsbD0ibm9uZSIgdmlld0JveD0iMCAwIDI2IDI2Ij48cGF0aCBmaWxsPSIjZDlkOWQ5IiBkPSJNMTMgMGExMyAxMyAwIDEgMCAwIDI2IDEzIDEzIDAgMCAwIDAtMjZtMCAyNGExMSAxMSAwIDEgMSAwLTIyIDExIDExIDAgMCAxIDAgMjIiLz48cGF0aCBmaWxsPSIjZDlkOWQ5IiBkPSJtMTAuOTU1IDE2LjA1NS0zLjk1LTQuMTI1LTEuNDQ1IDEuMzg1IDUuMzcgNS42MSA5LjQ5NS05LjYtMS40Mi0xLjQwNXoiLz48L3N2Zz4=)}body #challenge-error-text{background-image:url(data:image/svg+xml;base64,PHN2ZyB4bWxucz0iaHR0cDovL3d3dy53My5vcmcvMjAwMC9zdmciIHdpZHRoPSIzMiIgaGVpZ2h0PSIzMiIgZmlsbD0ibm9uZSI+PHBhdGggZmlsbD0iI0IyMEYwMyIgZD0iTTE2IDNhMTMgMTMgMCAxIDAgMTMgMTNBMTMuMDE1IDEzLjAxNSAwIDAgMCAxNiAzbTAgMjRhMTEgMTEgMCAxIDEgMTEtMTEgMTEuMDEgMTEuMDEgMCAwIDEtMTEgMTEiLz48cGF0aCBmaWxsPSIjQjIwRjAzIiBkPSJNMTcuMDM4IDE4LjYxNUgxNC44N0wxNC41NjMgOS41aDIuNzgzem0tMS4wODQgMS40MjdxLjY2IDAgMS4wNTcuMzg4LjQwNy4zODkuNDA3Ljk5NCAwIC41OTYtLjQwNy45ODQtLjM5Ny4zOS0xLjA1Ny4zODktLjY1IDAtMS4wNTYtLjM4OS0uMzk4LS4zODktLjM5OC0uOTg0IDAtLjU5Ny4zOTgtLjk4NS40MDYtLjM5NyAxLjA1Ni0uMzk3Ii8+PC9zdmc+)}}body{display:flex;flex-direction:column;min-height:100vh}body.no-js .loading-spinner{visibility:hidden}body.no-js .challenge-running{display:none}body.dark{background-color:#222;color:#d9d9d9}body.dark a{color:#fff}body.dark a:hover{color:#ee730a;text-decoration:underline}body.dark .lds-ring div{border-color:#999 transparent transparent}body.dark .font-red{color:#b20f03}body.dark .big-button,body.dark .pow-button{background-color:#4693ff;color:#1d1d1d}body.dark #challenge-success-text{background-image:url(data:image/svg+xml;base64,PHN2ZyB4bWxucz0iaHR0cDovL3d3dy53My5vcmcvMjAwMC9zdmciIHdpZHRoPSIzMiIgaGVpZ2h0PSIzMiIgZmlsbD0ibm9uZSIgdmlld0JveD0iMCAwIDI2IDI2Ij48cGF0aCBmaWxsPSIjZDlkOWQ5IiBkPSJNMTMgMGExMyAxMyAwIDEgMCAwIDI2IDEzIDEzIDAgMCAwIDAtMjZtMCAyNGExMSAxMSAwIDEgMSAwLTIyIDExIDExIDAgMCAxIDAgMjIiLz48cGF0aCBmaWxsPSIjZDlkOWQ5IiBkPSJtMTAuOTU1IDE2LjA1NS0zLjk1LTQuMTI1LTEuNDQ1IDEuMzg1IDUuMzcgNS42MSA5LjQ5NS05LjYtMS40Mi0xLjQwNXoiLz48L3N2Zz4=)}body.dark #challenge-error-text{background-image:url(data:image/svg+xml;base64,PHN2ZyB4bWxucz0iaHR0cDovL3d3dy53My5vcmcvMjAwMC9zdmciIHdpZHRoPSIzMiIgaGVpZ2h0PSIzMiIgZmlsbD0ibm9uZSI+PHBhdGggZmlsbD0iI0IyMEYwMyIgZD0iTTE2IDNhMTMgMTMgMCAxIDAgMTMgMTNBMTMuMDE1IDEzLjAxNSAwIDAgMCAxNiAzbTAgMjRhMTEgMTEgMCAxIDEgMTEtMTEgMTEuMDEgMTEuMDEgMCAwIDEtMTEgMTEiLz48cGF0aCBmaWxsPSIjQjIwRjAzIiBkPSJNMTcuMDM4IDE4LjYxNUgxNC44N0wxNC41NjMgOS41aDIuNzgzem0tMS4wODQgMS40MjdxLjY2IDAgMS4wNTcuMzg4LjQwNy4zODkuNDA3Ljk5NCAwIC41OTYtLjQwNy45ODQtLjM5Ny4zOS0xLjA1Ny4zODktLjY1IDAtMS4wNTYtLjM4OS0uMzk4LS4zODktLjM5OC0uOTg0IDAtLjU5Ny4zOTgtLjk4NS40MDYtLjM5NyAxLjA1Ni0uMzk3Ii8+PC9zdmc+)}body.light{background-color:transparent;color:#313131}body.light a{color:#0051c3}body.light a:hover{color:#ee730a;text-decoration:underline}body.light .lds-ring div{border-color:#595959 transparent transparent}body.light .font-red{color:#fc574a}body.light .big-button,body.light .pow-button{background-color:#003681;border-color:#003681;color:#fff}body.light #challenge-success-text{background-image:url(data:image/svg+xml;base64,PHN2ZyB4bWxucz0iaHR0cDovL3d3dy53My5vcmcvMjAwMC9zdmciIHdpZHRoPSIzMiIgaGVpZ2h0PSIzMiIgZmlsbD0ibm9uZSIgdmlld0JveD0iMCAwIDI2IDI2Ij48cGF0aCBmaWxsPSIjMzEzMTMxIiBkPSJNMTMgMGExMyAxMyAwIDEgMCAwIDI2IDEzIDEzIDAgMCAwIDAtMjZtMCAyNGExMSAxMSAwIDEgMSAwLTIyIDExIDExIDAgMCAxIDAgMjIiLz48cGF0aCBmaWxsPSIjMzEzMTMxIiBkPSJtMTAuOTU1IDE2LjA1NS0zLjk1LTQuMTI1LTEuNDQ1IDEuMzg1IDUuMzcgNS42MSA5LjQ5NS05LjYtMS40Mi0xLjQwNXoiLz48L3N2Zz4=)}body.light #challenge-error-text{background-image:url(data:image/svg+xml;base64,PHN2ZyB4bWxucz0iaHR0cDovL3d3dy53My5vcmcvMjAwMC9zdmciIHdpZHRoPSIzMiIgaGVpZ2h0PSIzMiIgZmlsbD0ibm9uZSI+PHBhdGggZmlsbD0iI2ZjNTc0YSIgZD0iTTE2IDNhMTMgMTMgMCAxIDAgMTMgMTNBMTMuMDE1IDEzLjAxNSAwIDAgMCAxNiAzbTAgMjRhMTEgMTEgMCAxIDEgMTEtMTEgMTEuMDEgMTEuMDEgMCAwIDEtMTEgMTEiLz48cGF0aCBmaWxsPSIjZmM1NzRhIiBkPSJNMTcuMDM4IDE4LjYxNUgxNC44N0wxNC41NjMgOS41aDIuNzgzem0tMS4wODQgMS40MjdxLjY2IDAgMS4wNTcuMzg4LjQwNy4zODkuNDA3Ljk5NCAwIC41OTYtLjQwNy45ODQtLjM5Ny4zOS0xLjA1Ny4zODktLjY1IDAtMS4wNTYtLjM4OS0uMzk4LS4zODktLjM5OC0uOTg0IDAtLjU5Ny4zOTgtLjk4NS40MDYtLjM5NyAxLjA1Ni0uMzk3Ii8+PC9zdmc+)}a{background-color:transparent;color:#0051c3;text-decoration:none;transition:color .15s ease}a:hover{color:#ee730a;text-decoration:underline}.main-content{margin:8rem auto;max-width:60rem;width:100%}.heading-favicon{height:2rem;margin-right:.5rem;width:2rem}@media (width <= 720px){.main-content{margin-top:4rem}.heading-favicon{height:1.5rem;width:1.5rem}}.footer,.main-content{padding-left:1.5rem;padding-right:1.5rem}.main-wrapper{align-items:center;display:flex;flex:1;flex-direction:column}.font-red{color:#b20f03}.spacer{margin:2rem 0}.h1{font-size:2.5rem;font-weight:500;line-height:3.75rem}.h2{font-weight:500}.core-msg,.h2{font-size:1.5rem;line-height:2.25rem}.body-text,.core-msg{font-weight:400}.body-text{font-size:1rem;line-height:1.25rem}@media (width <= 720px){.h1{font-size:1.5rem;line-height:1.75rem}.h2{font-size:1.25rem}.core-msg,.h2{line-height:1.5rem}.core-msg{font-size:1rem}}#challenge-error-text{background-image:url(data:image/svg+xml;base64,PHN2ZyB4bWxucz0iaHR0cDovL3d3dy53My5vcmcvMjAwMC9zdmciIHdpZHRoPSIzMiIgaGVpZ2h0PSIzMiIgZmlsbD0ibm9uZSI+PHBhdGggZmlsbD0iI2ZjNTc0YSIgZD0iTTE2IDNhMTMgMTMgMCAxIDAgMTMgMTNBMTMuMDE1IDEzLjAxNSAwIDAgMCAxNiAzbTAgMjRhMTEgMTEgMCAxIDEgMTEtMTEgMTEuMDEgMTEuMDEgMCAwIDEtMTEgMTEiLz48cGF0aCBmaWxsPSIjZmM1NzRhIiBkPSJNMTcuMDM4IDE4LjYxNUgxNC44N0wxNC41NjMgOS41aDIuNzgzem0tMS4wODQgMS40MjdxLjY2IDAgMS4wNTcuMzg4LjQwNy4zODkuNDA3Ljk5NCAwIC41OTYtLjQwNy45ODQtLjM5Ny4zOS0xLjA1Ny4zODktLjY1IDAtMS4wNTYtLjM4OS0uMzk4LS4zODktLjM5OC0uOTg0IDAtLjU5Ny4zOTgtLjk4NS40MDYtLjM5NyAxLjA1Ni0uMzk3Ii8+PC9zdmc+);padding-left:34px}#challenge-error-text,#challenge-success-text{background-repeat:no-repeat;background-size:contain}#challenge-success-text{background-image:url(data:image/svg+xml;base64,PHN2ZyB4bWxucz0iaHR0cDovL3d3dy53My5vcmcvMjAwMC9zdmciIHdpZHRoPSIzMiIgaGVpZ2h0PSIzMiIgZmlsbD0ibm9uZSIgdmlld0JveD0iMCAwIDI2IDI2Ij48cGF0aCBmaWxsPSIjMzEzMTMxIiBkPSJNMTMgMGExMyAxMyAwIDEgMCAwIDI2IDEzIDEzIDAgMCAwIDAtMjZtMCAyNGExMSAxMSAwIDEgMSAwLTIyIDExIDExIDAgMCAxIDAgMjIiLz48cGF0aCBmaWxsPSIjMzEzMTMxIiBkPSJtMTAuOTU1IDE2LjA1NS0zLjk1LTQuMTI1LTEuNDQ1IDEuMzg1IDUuMzcgNS42MSA5LjQ5NS05LjYtMS40Mi0xLjQwNXoiLz48L3N2Zz4=);padding-left:42px}.text-center{text-align:center}.big-button{border:.063rem solid #0051c3;border-radius:.313rem;font-size:.875rem;line-height:1.313rem;padding:.375rem 1rem;transition-duration:.2s;transition-property:background-color,border-color,color;transition-timing-function:ease}.big-button:hover{cursor:pointer}.captcha-prompt:not(.hidden){display:flex}@media (width <= 720px){.captcha-prompt:not(.hidden){flex-wrap:wrap;justify-content:center}}.pow-button{background-color:#0051c3;color:#fff;margin:2rem 0}.pow-button:hover{background-color:#003681;border-color:#003681;color:#fff}.footer{font-size:.75rem;line-height:1.125rem;margin:0 auto;max-width:60rem;width:100%}.footer-inner{border-top:1px solid #d9d9d9;padding-bottom:1rem;padding-top:1rem}.clearfix:after{clear:both;content:\"\";display:table}.clearfix .column{float:left;padding-right:1.5rem;width:50%}.diagnostic-wrapper{margin-bottom:.5rem}.footer .ray-id{text-align:center}.footer .ray-id code{font-family:monaco,courier,monospace}.core-msg,.zone-name-title{overflow-wrap:break-word}@media (width <= 720px){.diagnostic-wrapper{display:flex;flex-wrap:wrap;justify-content:center}.clearfix:after{clear:none;content:none;display:initial;text-align:center}.column{padding-bottom:2rem}.clearfix .column{float:none;padding:0;width:auto;word-break:keep-all}.zone-name-title{margin-bottom:1rem}}.loading-spinner{height:76.391px}.lds-ring{display:inline-block;position:relative}.lds-ring,.lds-ring div{height:1.875rem;width:1.875rem}.lds-ring div{animation:lds-ring 1.2s cubic-bezier(.5,0,.5,1) infinite;border:.3rem solid transparent;border-radius:50%;border-top-color:#313131;box-sizing:border-box;display:block;position:absolute}.lds-ring div:first-child{animation-delay:-.45s}.lds-ring div:nth-child(2){animation-delay:-.3s}.lds-ring div:nth-child(3){animation-delay:-.15s}@keyframes lds-ring{0%{transform:rotate(0)}to{transform:rotate(1turn)}}@media screen and (-ms-high-contrast:active),screen and (-ms-high-contrast:none){.main-wrapper,body{display:block}}\n",
      "  </style>\n",
      "  <meta content=\"375\" http-equiv=\"refresh\"/>\n",
      " </head>\n",
      " <body class=\"no-js\">\n",
      "  <div class=\"main-wrapper\" role=\"main\">\n",
      "   <div class=\"main-content\">\n",
      "    <noscript>\n",
      "     <div id=\"challenge-error-title\">\n",
      "      <div class=\"h2\">\n",
      "       <span id=\"challenge-error-text\">\n",
      "        Enable JavaScript and cookies to continue\n",
      "       </span>\n",
      "      </div>\n",
      "     </div>\n",
      "    </noscript>\n",
      "   </div>\n",
      "  </div>\n",
      "  <script>\n",
      "   (function(){window._cf_chl_opt={cvId: '3',cZone: \"www.point2homes.com\",cType: 'managed',cNounce: '22013',cRay: '873c8ebcfc6e4545',cHash: '3e738380ea04f85',cUPMDTk: \"\\/US\\/Neighborhood\\/TN\\/Davidson-County-Demographics.html?__cf_chl_tk=rqB76dy9BqN13w8qGs1N7YcxY8sSVzAVymB0I4Fq1yg-1713022857-0.0.1.1-1770\",cFPWv: 'b',cTTimeMs: '1000',cMTimeMs: '375000',cTplV: 5,cTplB: 'cf',cK: \"visitor-time\",fa: \"\\/US\\/Neighborhood\\/TN\\/Davidson-County-Demographics.html?__cf_chl_f_tk=rqB76dy9BqN13w8qGs1N7YcxY8sSVzAVymB0I4Fq1yg-1713022857-0.0.1.1-1770\",md: \"7L_hNYLLwDOUU3Z_mtILbW.hIH75AuIc1jrERJ_DvnQ-1713022857-1.1.1.1-j41lKjZ8IMfd80hlGPzVvwCkGBq5R.AiNqCyRtfivnqKmiZZPSrHMolLbhZUU29Pwt30.Jl2.HSFh4UaW3WEtCwveRT6Q47T_PKynZuqj8wnc2SpUitkZWejRKbiQbRmooEiRr0pHOZGVldK9pSDREzl5_dWD03SroPp8hEUvyaYtRUxk41bhCQyy.YDJz1ILyQVp8O9X6hMHtZBxRX5YG0XqJhWGjLzYz977CbGqhl.ItgmJzxbpUI4VDmA5OQE8OqMCeVxyO4c7gzqbUiuK1nTWJHuRxgiM2zeagvmlXMk88ub38da1Hh0V5b.1KcycvTGWT_iTPnr.n.hm6F_Y9u9B_HgtD1tDCMX33S_l.PXGdOHF.mo79LyTBsNM_BaUfe6uob5QvpWpesete52MJK4i.fsRwKcPGGcWJYBe3WxFmjZvXEUwJvo0L.hf99AMmdfPJkp94odveV0T5AlCHBysMgzOG6v..9M5u8CuEnaDQwoIGB1JE8JRgasfOVUHJmC3m82dKkDnB22_hrpwidGyONaIs4EGMoIFs76vmadRW4pRNpg0ns1nuBTlyCkPYEzbT8cUwAj.NdhDLcLuEXzewwlmu6mgl5EFwhGsh2wWwBqrOeWExFsBbzmg7pz7536O5TJb5RUcywTKma_P2.gh3_tsYizOkaZwsK2jDtZqCC8IWsc0jatOrhZAJUqZzMS9KJfcEs5T8YAJkzTG8_0Hml6twQCOoI4mPhuJf0Kij4hXeSKUR5PUrGB0ghOaEFz4A5_28B25kDYGajnVvP8w.EXWRrHJ3px7_Mv_1h9ALcB1IC7smbZCsdJSOODUanHqTdpezvmfqRd9ekm1FNvJGD1RU0Z9abtOL1HBItzz7iavt7X.gYcjFCFIEswz6SweY2t0zptmckiEj0HVL9.lTAmOpfb.LXg6v2as4VaZK8KnA_ye0W__J57LRlBLLzphsabIkamKosqNn8KgMX3SbgzBPUmz3PvE__WQFONsJnkpvn5qC_pcTu9HHoXj7H.deU1PsN9Rvcm4ZerYzs5U7ASau.lTg10uVRwRFtlGOA_H3aSIKcdh3SOK5lFctMu0gS3w4xw28V9tfDmh4WZP91CrapaVvoYQb56h5oyiDdNMYAeMs_CoU2WZ2IQm3aAso0Y0LpWdT3obpLtc3wX8S2jgQeF2mUs1x1sWpC1w.N5.LrzbipMPYEgb4qSWjQd0f0ndIiDOsvDHn_2O0FGSwm2HKZtQqPZkbzUba9trjcrSnYWjY3RsWB02ZFpovqOEovWzWd2wxJtE8U7Mj1PS7lgXjlbQMsDYtb3CG997BlYOnksGcZ7TD8UHBfb0opy0IAmmfBA0EWzA8tuEwiyXRyGoauzbaGt7nsgWjOOnQYeWUeptwdCiQiwCB3jPnu99Sb3p4tSo7vNUg1jlmeEN0NFvZknt6vWuTPPCCcrnu.ShjYDO465H8YzX8WQXF_wgiupbBXR2TyMODqTTH4wTbZYrmjzMDfPN_kecEa5bPNceXN6G_vg4hdOsNK3dmsGy2ijokJ7Nwa9AzWZK4kX.WoVXC.XM1rMjkUn.3RDQtC9quej88GEDQ1.5r4KSQUBkbDUX54bRm9WRFjnOGftZDwcmJY49_youO0ldA63VA1Zj7.DISiZgq84_4mehesobywN.WQ9USnJZzj4GQiquVnIfUJuxxgia80w9J0\",mdrd: \"7g5bO6HmV279hGvZP3RJlSHZwh6GW2aSBfmsbo2aRB8-1713022857-1.1.1.1-6E3iyQxhSvX3cWtwj0NnnKDRLCEg2YsEmpUJL8GzVMavFL2v8WLeHUNsOg5.hCtkdDGstOtreSrgINx2whrd3IZClquJJE5_rvPNwdemThDgfnZjsFoKA5VpD629qe3pHiSoDOUjZnm_T1j75B4YGwboJDvgChf6KVn0eE0O1LfsqqMSLJnyhDClLRaeKI9ILoC9KwqIrVqbr_yIfT9cFGC_J1v3F7xY1jo1gWh1gZIhc0h9CkhL3O2RKKR7TPAfxOXZi95WM2wk58Usj0XtmJT_8Pnj9j_MmToiXUpf6pELPmsr9qhAi8UZ0bILQCTdnLPxwc2eVEKL4AK9D9.seh6Gwq31Q6WmTaHbQtwiWLPNRW2ZZMcj5j5xwcoaECfXvZNljvipdIjXC59kYMrDwu6ieAhvo2o6PZVnYkOrUEuuDI4ALzi.woANZMkbMBdvxo3APa5wg5YjhxYIwBP0vuUXHtCZ1hB0mO_2UkozuSBeq.x6zQ3NaJT2_fmclIINna_tVMViJAOGj2Rd_scfJBpakulazDIzFKKE3ZBBtmF262e2x6bvHDI452Cvd3ivulouDuwnONg2InLVMXkynvlUIQTMHANZLgRs0GxAn48rFu6oMXNFQBn8LKNsiBip8oG6QKeaEWnajrNQ2a8TgcLjnd9rP1Ku4.7B5Vtrrs34ts.0nwXUaTatRuw.Qp.NAsAD6.9ZnEm0AiydhUSm5WatVbci50ELJr0fmukU4b263Wb5y4RcHdBfBsxcpasdRgoah7Ndfy.Ic5xOZ.Yz4lEO0t1XzSaqGu6XAEf_CCKfHQpLM8XMhaJyGa8W.tIy3_L_3piTv2yC73ytivCmBoDlif2dnmN9OcbM446TQwItogXfw1eTG_FJ_f_Led2L_dKfwc69LQtVUseYCfLIcAgkUXCQGCCUn7pIn88O2iO4mLdNWEmnLxeE1h3KnJfF3Zt1U7m5uxyHsJBAcZFagTXXgnLnHnbseD.th_Uql3PIau0f0yyShi56toCPsqO9ISSwkvgA7vAFT_OZ5T_xTDAj7W28j9xYaghwlgyKvfn.Um30gno3AWvamhXmLtgQbMbNohkRyooqpX2Fot1Eouy6xe3u8ClHZ5DXEEqwBRRhAVCRLCvgsyUs_JrKZ_u4_R3mbMtYb.0og8S1a4VF6F9gqcR74KmaBR62sG.nIeAWh.VLPGVifbQro8m20Er2A8lr1t_.yJpgpgbzXF4uiqkZTejYjf22dMsjxuTnCAHX5LFeHjPrLYrF5ZBqS935LGXEdOHyuPUNY2KVs01EqNhNBRddS_1O5zBg8Y9fIwzvhxC_fiAN6ajk_b6eN_tgQE3gwZVXxGohd6T2ULV6UQMKlRZWWwImAPeTZgGi4o5j8leC3WsdIE04yflfFasNK3haKw_1JEgabJjpVE2d_nB679XVxgZAOcBCu9tvt8AVApIPznuTFP4p8O_cxRl1XJ_5ipGIEk.abwrcfk347vxJknye8H.Y.Nf8wB.JNpVp54b_kOPb4Hixi3Rv6K5qA8MrO5vrDqndWfC3gwE3QPbsSQjkMYwaQl1NryU8CgNL7lLvUzQV8WfsCyk60dBLM0DhK3KptO5of0yaifT3gzLyRPNj6knh_p4Y4nG9Xhy2e53K89tQmsPijyaKwiRSmEtYxutc4gXJuMXpSiiJf4tSVWd43p941SDkJbc81C5WQG.J7M10dtkYkozoX2hwvuHLzF.jlreTstuxuuGAnQ94y5gmsvs8ik4Pyg6XqEuKTXBLBe2MpVC6cqDOtG3cAbm0ChFZ3NiJMacNhMVJMU3lSFJvRYcE.ohW1yQEan9V7IBq9SPf7HX1_5xxhYPwmoevEbNNgRhRgP4lfeWUTavh2uwbmfHgVVukGL8ZyC9iwKbp5CL7QppnC66kzLEpdyNH.feefNbdqnMs6Lw9KnXpDVRwBuoBebA3yd2QFjy_QabRVRAHxgumRFiI2G8nQrC5zKaj_teypxidlcltDHcPnW0vpsziNCT0xUYCnW3hg0LqijSPqzt4VbhTGAnYO0NzehFuWBpVI5GELL6giJXCRhS45D7ea0EgeGK1__JrZK3fuxD6j_EDdT8tSi_EtJEqYczBjYcUwmwfBwl3FA8GFquonTBj0f6WrOyr4GA\",cRq: {ru: 'aHR0cHM6Ly93d3cucG9pbnQyaG9tZXMuY29tL1VTL05laWdoYm9yaG9vZC9UTi9EYXZpZHNvbi1Db3VudHktRGVtb2dyYXBoaWNzLmh0bWw=',ra: 'cHl0aG9uLXJlcXVlc3RzLzIuMzEuMA==',rm: 'R0VU',d: 'L8TwZ0CLzZHXNvP5qm2Wh/HXcCcrSQHNFej9ARNynbj7AEC5T6q0IK6eJOpBrulzeYLO/xxNRLRDe99nvpneleMb7fW1B2tHmK8nkmvjUcuml3PHKpT3yBJOIYA3imcZWVaMtMrgVdZekmnDI8rL7M8PK63umks+8bSBKUQFKWaFqToDvieOERWriSgVkT5Sx165pVumdaYFjGMopF2J/MKtgFpHK9hjxW6/p20cuaafo3FD+hYxMqryQbZZB5ix/95YEW1vd82Fw1FY5Ixx7Z/tGJK3oFxt72mjagATw0xjS6wl/1JHgRoR+eLZ84fwyhOVFdt2nzRcbBW7GMpTz/ifr1QspxN4kiYi8oImMZnUBrgJRw3Sa9mHB9Zgsq/iC0Hq0Gs5jmQ5DiaGy3Z7t3Yr00KFCaeDxpyG9YfvLUrazKPEA8FTfTYvamlIj4F8fHMw1viVnzvMD16qtqf0a+KizvlTFxggLxnjjQSe0sZH21ypLdym+GBwKhClqidkj7KyPThK432X5TPodqU+7tcsY9rTBZpwl49f3VmXVYDsD5LkZH1VLTN+Tb4MfyabFiSs8yw+PAeK76VOV15gPl+Zldlhvf+aIZi6HwsD9CW6RQwd2B5u3jW4tyr6nfSRKtY4N9raMMfbGNczy0nj2A==',t: 'MTcxMzAyMjg1Ny43NjAwMDA=',cT: Math.floor(Date.now() / 1000),m: 'oMQCIUYdnk3wmJkBCzDU9jwF+852SGRuMXWzlg9EabA=',i1: 'MQDAlOG6ncnTj0OF4KNq8w==',i2: '4xgMpd5iY1ivBdRmu6C+ug==',zh: 'V+pJxPvTFQAe4s8SjKDN4Hli+QuFq0ATf6jWbKaW9cU=',uh: 'YE9XOpG5TeHmhA1zfs5mxC8CrRZzq2a/+r+OU7dliYQ=',hh: 'BRQHSNvv5sc0QVAxVBrsmQE4bPNHdwSCj/XVncjXeww=',}};var cpo = document.createElement('script');cpo.src = '/cdn-cgi/challenge-platform/h/b/orchestrate/chl_page/v1?ray=873c8ebcfc6e4545';window._cf_chl_opt.cOgUHash = location.hash === '' && location.href.indexOf('#') !== -1 ? '#' : location.hash;window._cf_chl_opt.cOgUQuery = location.search === '' && location.href.slice(0, location.href.length - window._cf_chl_opt.cOgUHash.length).indexOf('?') !== -1 ? '?' : location.search;if (window.history && window.history.replaceState) {var ogU = location.pathname + window._cf_chl_opt.cOgUQuery + window._cf_chl_opt.cOgUHash;history.replaceState(null, null, \"\\/US\\/Neighborhood\\/TN\\/Davidson-County-Demographics.html?__cf_chl_rt_tk=rqB76dy9BqN13w8qGs1N7YcxY8sSVzAVymB0I4Fq1yg-1713022857-0.0.1.1-1770\" + window._cf_chl_opt.cOgUHash);cpo.onload = function() {history.replaceState(null, null, ogU);}}document.getElementsByTagName('head')[0].appendChild(cpo);}());\n",
      "  </script>\n",
      " </body>\n",
      "</html>\n",
      "\n"
     ]
    }
   ],
   "source": [
    "print(soup.prettify())"
   ]
  },
  {
   "cell_type": "code",
   "execution_count": 32,
   "id": "77fe2183-0261-44d1-ba6d-49e49b8babd5",
   "metadata": {},
   "outputs": [
    {
     "name": "stdout",
     "output_type": "stream",
     "text": [
      "None\n"
     ]
    }
   ],
   "source": [
    "tr = soup.find('div', attrs={'class' : \"nhood-data-wchart\"})\n",
    "print(tr)"
   ]
  },
  {
   "cell_type": "code",
   "execution_count": 35,
   "id": "55d0bd3e-5f9a-46b9-9998-ead63c7bb229",
   "metadata": {},
   "outputs": [
    {
     "data": {
      "text/plain": [
       "<Response [403]>"
      ]
     },
     "execution_count": 35,
     "metadata": {},
     "output_type": "execute_result"
    }
   ],
   "source": [
    "response\n"
   ]
  },
  {
   "cell_type": "code",
   "execution_count": null,
   "id": "dbcbdbf9-6323-4e95-988b-7cd4fc3424e7",
   "metadata": {},
   "outputs": [],
   "source": []
  }
 ],
 "metadata": {
  "kernelspec": {
   "display_name": "Python 3 (ipykernel)",
   "language": "python",
   "name": "python3"
  },
  "language_info": {
   "codemirror_mode": {
    "name": "ipython",
    "version": 3
   },
   "file_extension": ".py",
   "mimetype": "text/x-python",
   "name": "python",
   "nbconvert_exporter": "python",
   "pygments_lexer": "ipython3",
   "version": "3.10.13"
  }
 },
 "nbformat": 4,
 "nbformat_minor": 5
}
