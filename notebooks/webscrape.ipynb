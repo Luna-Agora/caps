{
 "cells": [
  {
   "cell_type": "code",
   "execution_count": 1,
   "id": "f673224f-ff8f-40f7-b239-3f0bdf31e4fd",
   "metadata": {},
   "outputs": [],
   "source": [
    "import requests"
   ]
  },
  {
   "cell_type": "code",
   "execution_count": 2,
   "id": "51cedc9b-065e-4593-8c64-188cc06e6ec0",
   "metadata": {},
   "outputs": [],
   "source": [
    "URL = 'https://www.point2homes.com/US/Neighborhood/TN/Davidson-County-Demographics.html'\n",
    "\n",
    "response = requests.get(URL)"
   ]
  },
  {
   "cell_type": "code",
   "execution_count": 3,
   "id": "c392db27-e030-4b89-9d40-06b19981130b",
   "metadata": {},
   "outputs": [],
   "source": [
    "from bs4 import BeautifulSoup as BS"
   ]
  },
  {
   "cell_type": "code",
   "execution_count": 4,
   "id": "1b5c43c3-cb48-4198-a7b6-19dc010a48a4",
   "metadata": {},
   "outputs": [],
   "source": [
    "soup = BS(response.text)"
   ]
  },
  {
   "cell_type": "code",
   "execution_count": 7,
   "id": "0a5a8e3c-34d5-46f2-aa67-499a4d3b57c9",
   "metadata": {},
   "outputs": [
    {
     "name": "stdout",
     "output_type": "stream",
     "text": [
      "<!DOCTYPE html>\n",
      "<html lang=\"en-US\">\n",
      " <head>\n",
      "  <title>\n",
      "   Just a moment...\n",
      "  </title>\n",
      "  <meta content=\"text/html; charset=utf-8\" http-equiv=\"Content-Type\"/>\n",
      "  <meta content=\"IE=Edge\" http-equiv=\"X-UA-Compatible\"/>\n",
      "  <meta content=\"noindex,nofollow\" name=\"robots\"/>\n",
      "  <meta content=\"width=device-width,initial-scale=1\" name=\"viewport\"/>\n",
      "  <style>\n",
      "   *{box-sizing:border-box;margin:0;padding:0}html{line-height:1.15;-webkit-text-size-adjust:100%;color:#313131}button,html{font-family:system-ui,-apple-system,BlinkMacSystemFont,Segoe UI,Roboto,Helvetica Neue,Arial,Noto Sans,sans-serif,Apple Color Emoji,Segoe UI Emoji,Segoe UI Symbol,Noto Color Emoji}@media (prefers-color-scheme:dark){body{background-color:#222;color:#d9d9d9}body a{color:#fff}body a:hover{color:#ee730a;text-decoration:underline}body .lds-ring div{border-color:#999 transparent transparent}body .font-red{color:#b20f03}body .big-button,body .pow-button{background-color:#4693ff;color:#1d1d1d}body #challenge-success-text{background-image:url(data:image/svg+xml;base64,PHN2ZyB4bWxucz0iaHR0cDovL3d3dy53My5vcmcvMjAwMC9zdmciIHdpZHRoPSIzMiIgaGVpZ2h0PSIzMiIgZmlsbD0ibm9uZSIgdmlld0JveD0iMCAwIDI2IDI2Ij48cGF0aCBmaWxsPSIjZDlkOWQ5IiBkPSJNMTMgMGExMyAxMyAwIDEgMCAwIDI2IDEzIDEzIDAgMCAwIDAtMjZtMCAyNGExMSAxMSAwIDEgMSAwLTIyIDExIDExIDAgMCAxIDAgMjIiLz48cGF0aCBmaWxsPSIjZDlkOWQ5IiBkPSJtMTAuOTU1IDE2LjA1NS0zLjk1LTQuMTI1LTEuNDQ1IDEuMzg1IDUuMzcgNS42MSA5LjQ5NS05LjYtMS40Mi0xLjQwNXoiLz48L3N2Zz4=)}body #challenge-error-text{background-image:url(data:image/svg+xml;base64,PHN2ZyB4bWxucz0iaHR0cDovL3d3dy53My5vcmcvMjAwMC9zdmciIHdpZHRoPSIzMiIgaGVpZ2h0PSIzMiIgZmlsbD0ibm9uZSI+PHBhdGggZmlsbD0iI0IyMEYwMyIgZD0iTTE2IDNhMTMgMTMgMCAxIDAgMTMgMTNBMTMuMDE1IDEzLjAxNSAwIDAgMCAxNiAzbTAgMjRhMTEgMTEgMCAxIDEgMTEtMTEgMTEuMDEgMTEuMDEgMCAwIDEtMTEgMTEiLz48cGF0aCBmaWxsPSIjQjIwRjAzIiBkPSJNMTcuMDM4IDE4LjYxNUgxNC44N0wxNC41NjMgOS41aDIuNzgzem0tMS4wODQgMS40MjdxLjY2IDAgMS4wNTcuMzg4LjQwNy4zODkuNDA3Ljk5NCAwIC41OTYtLjQwNy45ODQtLjM5Ny4zOS0xLjA1Ny4zODktLjY1IDAtMS4wNTYtLjM4OS0uMzk4LS4zODktLjM5OC0uOTg0IDAtLjU5Ny4zOTgtLjk4NS40MDYtLjM5NyAxLjA1Ni0uMzk3Ii8+PC9zdmc+)}}body{display:flex;flex-direction:column;min-height:100vh}body.no-js .loading-spinner{visibility:hidden}body.no-js .challenge-running{display:none}body.dark{background-color:#222;color:#d9d9d9}body.dark a{color:#fff}body.dark a:hover{color:#ee730a;text-decoration:underline}body.dark .lds-ring div{border-color:#999 transparent transparent}body.dark .font-red{color:#b20f03}body.dark .big-button,body.dark .pow-button{background-color:#4693ff;color:#1d1d1d}body.dark #challenge-success-text{background-image:url(data:image/svg+xml;base64,PHN2ZyB4bWxucz0iaHR0cDovL3d3dy53My5vcmcvMjAwMC9zdmciIHdpZHRoPSIzMiIgaGVpZ2h0PSIzMiIgZmlsbD0ibm9uZSIgdmlld0JveD0iMCAwIDI2IDI2Ij48cGF0aCBmaWxsPSIjZDlkOWQ5IiBkPSJNMTMgMGExMyAxMyAwIDEgMCAwIDI2IDEzIDEzIDAgMCAwIDAtMjZtMCAyNGExMSAxMSAwIDEgMSAwLTIyIDExIDExIDAgMCAxIDAgMjIiLz48cGF0aCBmaWxsPSIjZDlkOWQ5IiBkPSJtMTAuOTU1IDE2LjA1NS0zLjk1LTQuMTI1LTEuNDQ1IDEuMzg1IDUuMzcgNS42MSA5LjQ5NS05LjYtMS40Mi0xLjQwNXoiLz48L3N2Zz4=)}body.dark #challenge-error-text{background-image:url(data:image/svg+xml;base64,PHN2ZyB4bWxucz0iaHR0cDovL3d3dy53My5vcmcvMjAwMC9zdmciIHdpZHRoPSIzMiIgaGVpZ2h0PSIzMiIgZmlsbD0ibm9uZSI+PHBhdGggZmlsbD0iI0IyMEYwMyIgZD0iTTE2IDNhMTMgMTMgMCAxIDAgMTMgMTNBMTMuMDE1IDEzLjAxNSAwIDAgMCAxNiAzbTAgMjRhMTEgMTEgMCAxIDEgMTEtMTEgMTEuMDEgMTEuMDEgMCAwIDEtMTEgMTEiLz48cGF0aCBmaWxsPSIjQjIwRjAzIiBkPSJNMTcuMDM4IDE4LjYxNUgxNC44N0wxNC41NjMgOS41aDIuNzgzem0tMS4wODQgMS40MjdxLjY2IDAgMS4wNTcuMzg4LjQwNy4zODkuNDA3Ljk5NCAwIC41OTYtLjQwNy45ODQtLjM5Ny4zOS0xLjA1Ny4zODktLjY1IDAtMS4wNTYtLjM4OS0uMzk4LS4zODktLjM5OC0uOTg0IDAtLjU5Ny4zOTgtLjk4NS40MDYtLjM5NyAxLjA1Ni0uMzk3Ii8+PC9zdmc+)}body.light{background-color:transparent;color:#313131}body.light a{color:#0051c3}body.light a:hover{color:#ee730a;text-decoration:underline}body.light .lds-ring div{border-color:#595959 transparent transparent}body.light .font-red{color:#fc574a}body.light .big-button,body.light .pow-button{background-color:#003681;border-color:#003681;color:#fff}body.light #challenge-success-text{background-image:url(data:image/svg+xml;base64,PHN2ZyB4bWxucz0iaHR0cDovL3d3dy53My5vcmcvMjAwMC9zdmciIHdpZHRoPSIzMiIgaGVpZ2h0PSIzMiIgZmlsbD0ibm9uZSIgdmlld0JveD0iMCAwIDI2IDI2Ij48cGF0aCBmaWxsPSIjMzEzMTMxIiBkPSJNMTMgMGExMyAxMyAwIDEgMCAwIDI2IDEzIDEzIDAgMCAwIDAtMjZtMCAyNGExMSAxMSAwIDEgMSAwLTIyIDExIDExIDAgMCAxIDAgMjIiLz48cGF0aCBmaWxsPSIjMzEzMTMxIiBkPSJtMTAuOTU1IDE2LjA1NS0zLjk1LTQuMTI1LTEuNDQ1IDEuMzg1IDUuMzcgNS42MSA5LjQ5NS05LjYtMS40Mi0xLjQwNXoiLz48L3N2Zz4=)}body.light #challenge-error-text{background-image:url(data:image/svg+xml;base64,PHN2ZyB4bWxucz0iaHR0cDovL3d3dy53My5vcmcvMjAwMC9zdmciIHdpZHRoPSIzMiIgaGVpZ2h0PSIzMiIgZmlsbD0ibm9uZSI+PHBhdGggZmlsbD0iI2ZjNTc0YSIgZD0iTTE2IDNhMTMgMTMgMCAxIDAgMTMgMTNBMTMuMDE1IDEzLjAxNSAwIDAgMCAxNiAzbTAgMjRhMTEgMTEgMCAxIDEgMTEtMTEgMTEuMDEgMTEuMDEgMCAwIDEtMTEgMTEiLz48cGF0aCBmaWxsPSIjZmM1NzRhIiBkPSJNMTcuMDM4IDE4LjYxNUgxNC44N0wxNC41NjMgOS41aDIuNzgzem0tMS4wODQgMS40MjdxLjY2IDAgMS4wNTcuMzg4LjQwNy4zODkuNDA3Ljk5NCAwIC41OTYtLjQwNy45ODQtLjM5Ny4zOS0xLjA1Ny4zODktLjY1IDAtMS4wNTYtLjM4OS0uMzk4LS4zODktLjM5OC0uOTg0IDAtLjU5Ny4zOTgtLjk4NS40MDYtLjM5NyAxLjA1Ni0uMzk3Ii8+PC9zdmc+)}a{background-color:transparent;color:#0051c3;text-decoration:none;transition:color .15s ease}a:hover{color:#ee730a;text-decoration:underline}.main-content{margin:8rem auto;max-width:60rem;width:100%}.heading-favicon{height:2rem;margin-right:.5rem;width:2rem}@media (width <= 720px){.main-content{margin-top:4rem}.heading-favicon{height:1.5rem;width:1.5rem}}.footer,.main-content{padding-left:1.5rem;padding-right:1.5rem}.main-wrapper{align-items:center;display:flex;flex:1;flex-direction:column}.font-red{color:#b20f03}.spacer{margin:2rem 0}.h1{font-size:2.5rem;font-weight:500;line-height:3.75rem}.h2{font-weight:500}.core-msg,.h2{font-size:1.5rem;line-height:2.25rem}.body-text,.core-msg{font-weight:400}.body-text{font-size:1rem;line-height:1.25rem}@media (width <= 720px){.h1{font-size:1.5rem;line-height:1.75rem}.h2{font-size:1.25rem}.core-msg,.h2{line-height:1.5rem}.core-msg{font-size:1rem}}#challenge-error-text{background-image:url(data:image/svg+xml;base64,PHN2ZyB4bWxucz0iaHR0cDovL3d3dy53My5vcmcvMjAwMC9zdmciIHdpZHRoPSIzMiIgaGVpZ2h0PSIzMiIgZmlsbD0ibm9uZSI+PHBhdGggZmlsbD0iI2ZjNTc0YSIgZD0iTTE2IDNhMTMgMTMgMCAxIDAgMTMgMTNBMTMuMDE1IDEzLjAxNSAwIDAgMCAxNiAzbTAgMjRhMTEgMTEgMCAxIDEgMTEtMTEgMTEuMDEgMTEuMDEgMCAwIDEtMTEgMTEiLz48cGF0aCBmaWxsPSIjZmM1NzRhIiBkPSJNMTcuMDM4IDE4LjYxNUgxNC44N0wxNC41NjMgOS41aDIuNzgzem0tMS4wODQgMS40MjdxLjY2IDAgMS4wNTcuMzg4LjQwNy4zODkuNDA3Ljk5NCAwIC41OTYtLjQwNy45ODQtLjM5Ny4zOS0xLjA1Ny4zODktLjY1IDAtMS4wNTYtLjM4OS0uMzk4LS4zODktLjM5OC0uOTg0IDAtLjU5Ny4zOTgtLjk4NS40MDYtLjM5NyAxLjA1Ni0uMzk3Ii8+PC9zdmc+);padding-left:34px}#challenge-error-text,#challenge-success-text{background-repeat:no-repeat;background-size:contain}#challenge-success-text{background-image:url(data:image/svg+xml;base64,PHN2ZyB4bWxucz0iaHR0cDovL3d3dy53My5vcmcvMjAwMC9zdmciIHdpZHRoPSIzMiIgaGVpZ2h0PSIzMiIgZmlsbD0ibm9uZSIgdmlld0JveD0iMCAwIDI2IDI2Ij48cGF0aCBmaWxsPSIjMzEzMTMxIiBkPSJNMTMgMGExMyAxMyAwIDEgMCAwIDI2IDEzIDEzIDAgMCAwIDAtMjZtMCAyNGExMSAxMSAwIDEgMSAwLTIyIDExIDExIDAgMCAxIDAgMjIiLz48cGF0aCBmaWxsPSIjMzEzMTMxIiBkPSJtMTAuOTU1IDE2LjA1NS0zLjk1LTQuMTI1LTEuNDQ1IDEuMzg1IDUuMzcgNS42MSA5LjQ5NS05LjYtMS40Mi0xLjQwNXoiLz48L3N2Zz4=);padding-left:42px}.text-center{text-align:center}.big-button{border:.063rem solid #0051c3;border-radius:.313rem;font-size:.875rem;line-height:1.313rem;padding:.375rem 1rem;transition-duration:.2s;transition-property:background-color,border-color,color;transition-timing-function:ease}.big-button:hover{cursor:pointer}.captcha-prompt:not(.hidden){display:flex}@media (width <= 720px){.captcha-prompt:not(.hidden){flex-wrap:wrap;justify-content:center}}.pow-button{background-color:#0051c3;color:#fff;margin:2rem 0}.pow-button:hover{background-color:#003681;border-color:#003681;color:#fff}.footer{font-size:.75rem;line-height:1.125rem;margin:0 auto;max-width:60rem;width:100%}.footer-inner{border-top:1px solid #d9d9d9;padding-bottom:1rem;padding-top:1rem}.clearfix:after{clear:both;content:\"\";display:table}.clearfix .column{float:left;padding-right:1.5rem;width:50%}.diagnostic-wrapper{margin-bottom:.5rem}.footer .ray-id{text-align:center}.footer .ray-id code{font-family:monaco,courier,monospace}.core-msg,.zone-name-title{overflow-wrap:break-word}@media (width <= 720px){.diagnostic-wrapper{display:flex;flex-wrap:wrap;justify-content:center}.clearfix:after{clear:none;content:none;display:initial;text-align:center}.column{padding-bottom:2rem}.clearfix .column{float:none;padding:0;width:auto;word-break:keep-all}.zone-name-title{margin-bottom:1rem}}.loading-spinner{height:76.391px}.lds-ring{display:inline-block;position:relative}.lds-ring,.lds-ring div{height:1.875rem;width:1.875rem}.lds-ring div{animation:lds-ring 1.2s cubic-bezier(.5,0,.5,1) infinite;border:.3rem solid transparent;border-radius:50%;border-top-color:#313131;box-sizing:border-box;display:block;position:absolute}.lds-ring div:first-child{animation-delay:-.45s}.lds-ring div:nth-child(2){animation-delay:-.3s}.lds-ring div:nth-child(3){animation-delay:-.15s}@keyframes lds-ring{0%{transform:rotate(0)}to{transform:rotate(1turn)}}@media screen and (-ms-high-contrast:active),screen and (-ms-high-contrast:none){.main-wrapper,body{display:block}}\n",
      "  </style>\n",
      "  <meta content=\"375\" http-equiv=\"refresh\"/>\n",
      " </head>\n",
      " <body class=\"no-js\">\n",
      "  <div class=\"main-wrapper\" role=\"main\">\n",
      "   <div class=\"main-content\">\n",
      "    <noscript>\n",
      "     <div id=\"challenge-error-title\">\n",
      "      <div class=\"h2\">\n",
      "       <span id=\"challenge-error-text\">\n",
      "        Enable JavaScript and cookies to continue\n",
      "       </span>\n",
      "      </div>\n",
      "     </div>\n",
      "    </noscript>\n",
      "   </div>\n",
      "  </div>\n",
      "  <script>\n",
      "   (function(){window._cf_chl_opt={cvId: '3',cZone: \"www.point2homes.com\",cType: 'managed',cNounce: '29080',cRay: '87355307fdf653d0',cHash: 'b69e937500cfbef',cUPMDTk: \"\\/US\\/Neighborhood\\/TN\\/Davidson-County-Demographics.html?__cf_chl_tk=LDLQgenqzRMUqfoiKQnYMwxR0Nat2kCPstdlkX4h3Cs-1712947011-0.0.1.1-1770\",cFPWv: 'b',cTTimeMs: '1000',cMTimeMs: '375000',cTplV: 5,cTplB: 'cf',cK: \"visitor-time\",fa: \"\\/US\\/Neighborhood\\/TN\\/Davidson-County-Demographics.html?__cf_chl_f_tk=LDLQgenqzRMUqfoiKQnYMwxR0Nat2kCPstdlkX4h3Cs-1712947011-0.0.1.1-1770\",md: \"Gy4.9H7HU6btqu02b5AoSlkFijKTk_o68ptXObB4ek0-1712947011-1.1.1.1-eSa0nOLXafuwVFRW.3IrjUhonm1qum_K0DaCMhrP2Gl8.B_4qRFReV6BOkCxlmCj1nxZOS_SKl5shIVCUI9iG4hsEQHg1sHRQ5oP.jbSSxP4JdqEr.Z_VlsOZAtvJgKW1lIVfcbYI1Cr3D8PvOXS1WStc2YhoPsdNZEOidJ7lExHPuFblKwkUCcm5i3jIj2T4tG56DjIB.O3qxOV4SD2y0a5HWKo1CVvElqiNagZPTFeeTiax8MiCB556I1qgFEJxRVR2XL0hwcd0El2Dkeg9ejLzzOGPAuS35F3LmMTBnJw01Q5WOTJQEvufySGCn1sK09Lzj85IkkQ.agMcOFiQ.d8jGSPjCzrSupDE9C4x5V4gWolRFT6jSkaIFTC1TVSmSaDG1EM8jM.A1VXEqFTLLNJ1qhQPwG9XrGfSa91YqOzpxAgdRigNo8BYcvG0h_CCW7iqAwmQDNejNRzwsErbwmDpxwjORV8pBRH4LElgPFuVZlV56iHN6iev6E6FolS3ucDV8OTmI6rjOA9si5aspDM1nfqQ2qald0coVT12P0tFBNkMn1taL1TlnoJf7pGDUWy31wa9HjFYxp_OZxeS7WJhf_pYj2RIcPbo05PZCrTdQFh71trMstrtc57.z35z_rKTW7lKJ_0l08DJCokBLkmkyETkOAobwqWdHTaVb6FhUuyL.rDFGSmdP2MDwxZbOLEWXS1S3v84x7BksWW7XReo9V7uhOSnqLTzzI_AEfZdUhpf6X5o172F7rqKw3XaXrGVeCRs51s3KNPJ6LAawuMw0yeyOnYIuzY3v11ABGIa2scLdHokI5L3El6yqzgO3qjI6R3Y3B.NaHCdlS0cazwK7gMiH1CXxbDUUMcbEIWPBYBj.Tn9ThmYaYmCcog2cY0NJqo0D6qzo8gxN4hs4f0Lxc_MLJP4zX5DThG578X68XPqNGQ0_TikPxOs8iJ9fmwScvPxsTVgPMsY6rh8HDiHxvwulo.SXOsfuh1aNyJGsrIDwjLt3mKPedMUSnS9TdmOhg2mLP1j10smbIDtqF4oJRLIWaEEaxgtMg7mU0GRiCKen49tME28m0jAraaTqaEXZgDY9HeTJItG93sWT.zmHx_idzQp2..UbnWO5ktronHYw.2FOuX0qTD1rLZxcOsC4DAQZVZ5.9sMd4Py19DvJEHVzxLox8DPa_swiZqWGqiOZ8wLdUlGf3niMbJs9yvjqmBpxPKY4K_krm55v1ZbhaqfYS2y98mCkl0h5EQfbXGuwbfhLoER07plLC47_68H6sTEzSSRepAPsbytl0K4.CUNBcSlkIpuHnFn31_1OyJeTiLS68iGyLb2Prawbo3T0HYrTkVYxcRSxZtxZ560MA9JoGEhZtePOL68LrhcjohAJBAkWvKVYUp8OKp0Kwfqc22LC9qXg6vGPwZGMfup7pKME3DqIb_d_GyCOlvBEQ.XY5H3m8IcC3QZnSBdHy7wMyhDAD7yPav2uWhpWQVCfOheY9JagwUl7XlHcCsS10wvDQjGhrXMGNTvrgL1CZkgjB1rZKBhcOZBKyWmYMOv3cNxTRPSSanrAV37HAySt54AyxJhb4Wu1pMn1qO7eKXNnjOGh.Bb1xCkSdv4uW6VbebK8cWsycdEbudqBmMQrgpk04.xKrvOLEeQdCaykoJtVEKt30Mq.6jLriuXuNvSIlIFQKsl1Mc7H6fYJM\",mdrd: \"glXdc7o1gszF3I11RRIWwLmnFSO03pSWyeLEUB_RDBY-1712947011-1.1.1.1-0Q0DWB2Hqyw1LBjXRCGKm9AIYzRNazrm52Ddf.tQ7reblFBqw.khlhbRTOWZOTIgEIV3ZTBcFz0JEoQDylE5D9lRIdZReSprmTBLXv6EnuawXRrVBRnPw_CF6ghsjZMYquMmo49A4qSVyFafNwlwwwkVskidlyulaaoE2FDdlh2PkzK5LNl._RjMxzs1TyAxZCSfgj2OL0Klpe7vU8asIvU_xD7W2sWn4Qt1egpPoe_.4rqDS1yN1vzNCK1pBWcWgq.qeETuTMazf2SNjIiXx7i0f731HBtDANxEJnIJx.0Ct9xt_0pv6RgclizktE8hjbLY_IpXzhZjd9TrTSvSacHH4DRNxmisFsXK1uVkOfmGGTyHyPX4lhlbWI9dd3osKOJkh0xtn1c36NypRa5kURbVY2qzhmA1Q449uwDqBdWbv6.qgyLQ7GPjKzXpXpPSSK..YA_VVJlpYUpOgZzFD0TPNhJXmliNK8AaJXTdP4NUfosxquOPzL0goyvz5HnxrqSRcJWfW_nyJPCu53hNQtJG3RkHljHVr7MYsDkcMEvYacujAmtVnuukkjyM_KfFyGpztGFZLWEbEHvk_6va881MFHCHjv4rZLzj5D8k6nOvguq4IJWR5MuHo1oGDySgPBVnxfXZiVW7y0oKH3TkoRbDz_Ex2ai0lQ4mOh7cTrvb0pqzpSQ9.J1_48XCOXRTtY8ABJJ7RBYBgITmiF5If2gFAiDsPS00gNDX2yf73HT4WJ3UOuJHNSoPOKNyGUDk9rvMHrio73QsYm52Qky5sE7dHGqhAXu71Cz6WVvbWrRvJDfMtGH036AI9H7MpzjYDyI1s1Ev3s5S6zkq9OoYB42dsm4VhvYGQMi7e7GVujrEpj7u7FnCQF7NlPEc5NaKmEtprlia8fDcXck5Vs346txxipDAcp8QLmqh_BR2hJO.OUd5m19MT4gdmXW68SzoeHHfh1pEhfj8MT9WC00SoFqCOJ7UgwX2ACDgo2JSp5L2mrYKTsdG0YRowsCQm7f2S160t7ejUuyDnq.HexXCnQuTLdPQUGHHaz3ZZ5wErtpQ5J_pPPCTLDeTqgiC4IJw.psIUs0P7._tITF1q001obQW67S40PREtGcuJYHCyX8MpnqoNUitVS9Fv.npy2CyZzrtjOyGUyGPOkBvY4Is3gSKM.EHSYgT3Qts.rQX06NvB_vPjlW6XDduAvqNhNmuge6umw3zHpE6saHNjOiqztuEX7_5jn3zFxA81PXrOXwOPVIc6wREtlxIcvX4dCDk3InNFpBwA3EZK0_.lbUihfv96NWmesqNoW4qQc.D8cvKSaYM153GCq37LVdUJn17XOohq1UM_Q5rtKZrHdaUyuLxvMPMh8lYGIeAujEpVZu9OFuSQ34tqpi9wYSqY4eEHD4pcsXrtPnjntXm.OUQsarla4i.PXU2FzfOFxjotLeDqF5ZdEHWpO829eg24dweOWkeVm.4lPl7IuhZh7rMJ2AswwRW.oJxVkiuME5w5wnxro10IPvWn8gbQ1q5sfJl5FktGf1430Hl2gNKT5iKdL8UTwnK5QfgRQ1zROKm7Ppmx1.hVY0cgxIG8q_xz6dESF9MY4NRfcr6e2Jn0t8rQZax0X4cu1kcnuSqwmHb9GT1DfQeZqp4lQrgcTcuGLsC32BT.7gYCx8WjCif5ix8DzGiu3rz0UrLdF1FreEHxeY7l6K0o2CfIAslAzAf.nUFG4pSg0Y9e5xirwN.tiPuNkU8JUTOHufrHqQK0Ax4C7IJG8cFQYv.xSovBEIdv9xpTrmn69ZF0uecdOwQCemNOYfT1zNT.AzouuFpVaWg6b71Nu2Wo7Di6UpFPS5sBd0DoTscA18865vdDaKh8TTNyRH_S5qtDHijQzlx2NKwa2hPJFf5ZLDCKq_J02Bwg3Q_nnVG0LBqfWFUAZSa3SRkisR8WRAzNoQAKhAvI0idYun98KbwrOaIoORo_mvh7uWKAZLjyAmaa4R49MqaupDdXe0tHzvCgZtz5xB1.2yi193wwzOXsVO8CiCDZhtkdJmXJWSb8jmkOY7edgFNg8lkxlUZmTzuKtH6jF3EguEDfc2xXIWMrcaPoYwcu7oTWetdZYKFhKSJkgxhVve5FMGZ6DZlXW9GDmkMS3ULboDZmrRNAobFP9OUrMHVgxLV050k\",cRq: {ru: 'aHR0cHM6Ly93d3cucG9pbnQyaG9tZXMuY29tL1VTL05laWdoYm9yaG9vZC9UTi9EYXZpZHNvbi1Db3VudHktRGVtb2dyYXBoaWNzLmh0bWw=',ra: 'cHl0aG9uLXJlcXVlc3RzLzIuMzEuMA==',rm: 'R0VU',d: 'Pdvm0mCzx7+6CaA+9j6gpMXA+LaD2n9L8/CuX+jmysggNohqAckafeFBC7rvRWRnoKZ3hvvzCQzbIHi/77TpFwuqf4K1EYj1qx6uzF7iwSxQDwWaW4bZSsjn+Oek7IOpa1En72neqPnwO19icBF87lSHuPUnXWg4+Hmn/vn0Sn9jxpkCD2nCBFsQrmNNyis22CNMXybW6WKxxw5rJb/Vts1iqkCxtdyOx6tMcDIk0YS57gX9iS1rfBOaU4J9AqGJ2C59aaRrm6sWxlmUye6HsgM0skhk/+rVBYedlbj9SIwofDujvxhWc+HNITe/6nRuFBZFhxDNHwmTnWoPL/4WeQSvkKngq7AcMyb822p7IFb6enDgHxRr7A9cAD4JOjkY2aG7dULMsqzwKTh+qlFrPuUEBd83XP49iUbhRuZqUX5RiLFVvzb3foVPhQtgFy3QxWQneXKeK1utYaU9u4G0pVDibECekzJqwiVdKbBKXqr9TRx5XMkMErgYhhZzqWbYWxCsWfKz5mCC81NeVQYLiC6DDrKCLp4kc1vwzD72oZyUaeUUlCyVZPspaU+gXszSz1X1wGMzH6zACvW7HZbRLLDr1QkM9dho6uzTqXS31XVvZ7B+oDVYRUg01HAMG55Z2SedI0m/cnkSgNvLROBLvw==',t: 'MTcxMjk0NzAxMS44NDQwMDA=',cT: Math.floor(Date.now() / 1000),m: '2zrAJ0jKYtefhfbQbj2BJTpB5y7fNUZnBAQvMiRbdaw=',i1: '82c1Dph/EYLhEdFWGmXZag==',i2: 'ewXKZEGWWy6CUcJEZhJYTQ==',zh: 'V+pJxPvTFQAe4s8SjKDN4Hli+QuFq0ATf6jWbKaW9cU=',uh: 'YE9XOpG5TeHmhA1zfs5mxC8CrRZzq2a/+r+OU7dliYQ=',hh: 'BRQHSNvv5sc0QVAxVBrsmQE4bPNHdwSCj/XVncjXeww=',}};var cpo = document.createElement('script');cpo.src = '/cdn-cgi/challenge-platform/h/b/orchestrate/chl_page/v1?ray=87355307fdf653d0';window._cf_chl_opt.cOgUHash = location.hash === '' && location.href.indexOf('#') !== -1 ? '#' : location.hash;window._cf_chl_opt.cOgUQuery = location.search === '' && location.href.slice(0, location.href.length - window._cf_chl_opt.cOgUHash.length).indexOf('?') !== -1 ? '?' : location.search;if (window.history && window.history.replaceState) {var ogU = location.pathname + window._cf_chl_opt.cOgUQuery + window._cf_chl_opt.cOgUHash;history.replaceState(null, null, \"\\/US\\/Neighborhood\\/TN\\/Davidson-County-Demographics.html?__cf_chl_rt_tk=LDLQgenqzRMUqfoiKQnYMwxR0Nat2kCPstdlkX4h3Cs-1712947011-0.0.1.1-1770\" + window._cf_chl_opt.cOgUHash);cpo.onload = function() {history.replaceState(null, null, ogU);}}document.getElementsByTagName('head')[0].appendChild(cpo);}());\n",
      "  </script>\n",
      " </body>\n",
      "</html>\n",
      "\n"
     ]
    }
   ],
   "source": [
    "print(soup.prettify())"
   ]
  },
  {
   "cell_type": "code",
   "execution_count": 25,
   "id": "77fe2183-0261-44d1-ba6d-49e49b8babd5",
   "metadata": {},
   "outputs": [
    {
     "name": "stdout",
     "output_type": "stream",
     "text": [
      "None\n"
     ]
    }
   ],
   "source": [
    "tr = soup.find('div', attrs={'class' : \"nhood-data-wchart\"})\n",
    "print(tr)"
   ]
  },
  {
   "cell_type": "code",
   "execution_count": null,
   "id": "55d0bd3e-5f9a-46b9-9998-ead63c7bb229",
   "metadata": {},
   "outputs": [],
   "source": []
  },
  {
   "cell_type": "code",
   "execution_count": null,
   "id": "dbcbdbf9-6323-4e95-988b-7cd4fc3424e7",
   "metadata": {},
   "outputs": [],
   "source": []
  }
 ],
 "metadata": {
  "kernelspec": {
   "display_name": "Python 3 (ipykernel)",
   "language": "python",
   "name": "python3"
  },
  "language_info": {
   "codemirror_mode": {
    "name": "ipython",
    "version": 3
   },
   "file_extension": ".py",
   "mimetype": "text/x-python",
   "name": "python",
   "nbconvert_exporter": "python",
   "pygments_lexer": "ipython3",
   "version": "3.10.13"
  }
 },
 "nbformat": 4,
 "nbformat_minor": 5
}
